{
 "cells": [
  {
   "cell_type": "code",
   "execution_count": 1,
   "id": "84bb4270-9c6e-4650-9467-7684c545a26d",
   "metadata": {},
   "outputs": [],
   "source": [
    "# basically two major catagory of file i.e; binary and text file"
   ]
  },
  {
   "cell_type": "code",
   "execution_count": 2,
   "id": "7bc0707f-7f2d-41ef-ae56-29170a6c66c9",
   "metadata": {},
   "outputs": [],
   "source": [
    "# file handling"
   ]
  },
  {
   "cell_type": "code",
   "execution_count": 3,
   "id": "772f8e14-777e-4a30-80c0-107d2f730c16",
   "metadata": {},
   "outputs": [
    {
     "name": "stdout",
     "output_type": "stream",
     "text": [
      "error.txt    README.md          test1.txt  test3.txt  Untitled1.ipynb\n",
      "ineuron.txt  sample-code.ipynb  test2.txt  test.txt   Untitled.ipynb\n"
     ]
    }
   ],
   "source": [
    "%ls   # list all the file in the folder"
   ]
  },
  {
   "cell_type": "code",
   "execution_count": 4,
   "id": "666beb31-8187-471e-a856-d5cf1f886610",
   "metadata": {},
   "outputs": [
    {
     "data": {
      "text/plain": [
       "'/home/jovyan/work'"
      ]
     },
     "execution_count": 4,
     "metadata": {},
     "output_type": "execute_result"
    }
   ],
   "source": [
    "pwd()                 # present working directory"
   ]
  },
  {
   "cell_type": "code",
   "execution_count": 5,
   "id": "3bda2ffe-0941-4916-b64d-0706545e6fd4",
   "metadata": {},
   "outputs": [],
   "source": [
    "# open function is  used to open a file \n",
    "f = open(\"test.txt\")"
   ]
  },
  {
   "cell_type": "code",
   "execution_count": 6,
   "id": "dbb9f90e-8064-4c02-a4bd-e80748682f37",
   "metadata": {},
   "outputs": [
    {
     "data": {
      "text/plain": [
       "_io.TextIOWrapper"
      ]
     },
     "execution_count": 6,
     "metadata": {},
     "output_type": "execute_result"
    }
   ],
   "source": [
    "type(f)"
   ]
  },
  {
   "cell_type": "code",
   "execution_count": 7,
   "id": "e3fec888-ccb9-4ee4-a60e-6e71ec11abdb",
   "metadata": {},
   "outputs": [],
   "source": [
    "f.close()"
   ]
  },
  {
   "cell_type": "code",
   "execution_count": 8,
   "id": "a972f747-b8c4-426b-a657-01ac54b53317",
   "metadata": {},
   "outputs": [],
   "source": [
    "# f = open(r\"C:/ users/mohit/download/test.txt\",'r')   r = basically r is raw, it treat the (/)"
   ]
  },
  {
   "cell_type": "code",
   "execution_count": 9,
   "id": "04c43b57-0ed7-420e-b8b3-04c046d346f0",
   "metadata": {},
   "outputs": [],
   "source": [
    "# how to read a file "
   ]
  },
  {
   "cell_type": "code",
   "execution_count": 10,
   "id": "2e6f1f7e-0d50-4bb9-8648-2ad4574aaf86",
   "metadata": {},
   "outputs": [],
   "source": [
    "f = open(\"test.txt\")"
   ]
  },
  {
   "cell_type": "code",
   "execution_count": 11,
   "id": "9023d26b-20f5-43b2-a1c8-31c6180df248",
   "metadata": {},
   "outputs": [
    {
     "data": {
      "text/plain": [
       "'ineuron'"
      ]
     },
     "execution_count": 11,
     "metadata": {},
     "output_type": "execute_result"
    }
   ],
   "source": [
    "f.read()"
   ]
  },
  {
   "cell_type": "code",
   "execution_count": 12,
   "id": "c6c4e0cc-de23-4808-8b51-77e8f97340ff",
   "metadata": {},
   "outputs": [
    {
     "data": {
      "text/plain": [
       "''"
      ]
     },
     "execution_count": 12,
     "metadata": {},
     "output_type": "execute_result"
    }
   ],
   "source": [
    "f.read(4)\n",
    "# this will read 4 data "
   ]
  },
  {
   "cell_type": "code",
   "execution_count": 13,
   "id": "d6dde247-98cb-41fb-9e6d-47163e3fbd55",
   "metadata": {},
   "outputs": [
    {
     "data": {
      "text/plain": [
       "''"
      ]
     },
     "execution_count": 13,
     "metadata": {},
     "output_type": "execute_result"
    }
   ],
   "source": [
    "f.read(5)"
   ]
  },
  {
   "cell_type": "code",
   "execution_count": 14,
   "id": "78b0e011-ba7d-4760-b743-6962685601f3",
   "metadata": {},
   "outputs": [
    {
     "data": {
      "text/plain": [
       "0"
      ]
     },
     "execution_count": 14,
     "metadata": {},
     "output_type": "execute_result"
    }
   ],
   "source": [
    "f.seek(0)\n",
    "#this will get back to the original position"
   ]
  },
  {
   "cell_type": "code",
   "execution_count": 15,
   "id": "73ff5415-a9e6-40c0-9f3e-7f1c49e9409b",
   "metadata": {},
   "outputs": [
    {
     "data": {
      "text/plain": [
       "0"
      ]
     },
     "execution_count": 15,
     "metadata": {},
     "output_type": "execute_result"
    }
   ],
   "source": [
    "f.tell()\n",
    "# returns the current file positon in a file stream"
   ]
  },
  {
   "cell_type": "code",
   "execution_count": 16,
   "id": "299eb050-a298-4c44-9bef-f715ddbf4560",
   "metadata": {},
   "outputs": [
    {
     "data": {
      "text/plain": [
       "['ineuron']"
      ]
     },
     "execution_count": 16,
     "metadata": {},
     "output_type": "execute_result"
    }
   ],
   "source": [
    "f.readlines(1)"
   ]
  },
  {
   "cell_type": "code",
   "execution_count": 17,
   "id": "ca6e76d4-2db5-4e04-873b-099a93c3a71c",
   "metadata": {},
   "outputs": [],
   "source": [
    "try:\n",
    "    f=open(\"test.txt\")                          # it wll close the file manually\n",
    "finally:\n",
    "    f.close()"
   ]
  },
  {
   "cell_type": "code",
   "execution_count": 18,
   "id": "8feb8393-5bc9-4500-9a7f-3e7c07d8e3df",
   "metadata": {},
   "outputs": [],
   "source": [
    "f = open(\"test.txt\")"
   ]
  },
  {
   "cell_type": "code",
   "execution_count": 19,
   "id": "5489a882-6aef-4cd6-91e6-111c4cc27bc8",
   "metadata": {},
   "outputs": [],
   "source": [
    "with open(\"test.txt\") as f :            # with keyword = it will automatically close the file \n",
    "    #file operation\n",
    "    f.read()\n",
    "    pass"
   ]
  },
  {
   "cell_type": "code",
   "execution_count": 20,
   "id": "2173eae6-699d-4201-ad1e-caf93413d7fe",
   "metadata": {},
   "outputs": [],
   "source": [
    "# write a file"
   ]
  },
  {
   "cell_type": "code",
   "execution_count": 21,
   "id": "8ad7daf1-019d-4b6e-94d0-77f9be1f2f45",
   "metadata": {},
   "outputs": [
    {
     "name": "stdout",
     "output_type": "stream",
     "text": [
      "done\n"
     ]
    }
   ],
   "source": [
    "data = \"ineuron\"\n",
    "f= open(\"test1.txt\",'w')\n",
    "f.write(data)\n",
    "print(\"done\")\n",
    "f.close()"
   ]
  },
  {
   "cell_type": "code",
   "execution_count": 22,
   "id": "d0d7d6c9-8b6c-46a2-b10a-87b8c8b048ba",
   "metadata": {},
   "outputs": [],
   "source": [
    "with open(\"test2.txt\",'w') as f:\n",
    "    f.write(\" ineuron line\\n\")\n",
    "    f.write(\" ineuron line\\n\")"
   ]
  },
  {
   "cell_type": "code",
   "execution_count": 23,
   "id": "c67d4c93-e1d8-489b-99c3-e722ed4f3ab9",
   "metadata": {},
   "outputs": [
    {
     "name": "stdin",
     "output_type": "stream",
     "text": [
      "enter the first number 6\n",
      "enter the second number 0\n"
     ]
    },
    {
     "name": "stdout",
     "output_type": "stream",
     "text": [
      "there is some issue with my code division by zero\n"
     ]
    }
   ],
   "source": [
    "try:\n",
    "    a= int(input(\"enter the first number\"))\n",
    "    b= int(input(\"enter the second number\"))\n",
    "    c = a/b\n",
    "except ArithmeticError as e:\n",
    "    print(\"there is some issue with my code\",e)\n",
    "    f=open(\"error.txt\",'w+')\n",
    "    f.write(\"hi\")\n",
    "    f.write(str(e))\n",
    "    f.read()\n",
    "else:\n",
    "    print(\"this will execute one try is sucess\")\n",
    "    try:\n",
    "        f= open(\"test3.txt\",'w')\n",
    "    except:\n",
    "        print(\" this is and issue with try block\")\n",
    "        "
   ]
  },
  {
   "cell_type": "code",
   "execution_count": 24,
   "id": "ffaea640-32dd-4dd5-b999-b4714c7c47e2",
   "metadata": {},
   "outputs": [],
   "source": [
    "# r  open a file for reading\n",
    "# w  open a file writing and creates a new file if its does not exists or tructoes the file if exist.\n",
    "# x  open a file for exclusive creation if the file exist already exist operaton is fail.\n",
    "# a  open a file for appending at the end of file \n",
    "# +  open a file for updating (reading and writing)"
   ]
  },
  {
   "cell_type": "code",
   "execution_count": null,
   "id": "0d453d70-5da4-4994-88b4-420b4228d53b",
   "metadata": {},
   "outputs": [],
   "source": []
  },
  {
   "cell_type": "code",
   "execution_count": null,
   "id": "7773354c-c1bf-45df-8647-0092e0569a0f",
   "metadata": {},
   "outputs": [],
   "source": []
  },
  {
   "cell_type": "code",
   "execution_count": null,
   "id": "8673fa82-960d-47bd-9807-a583031a9d39",
   "metadata": {},
   "outputs": [],
   "source": []
  },
  {
   "cell_type": "code",
   "execution_count": null,
   "id": "c0716ea0-9dab-43bd-bb75-ce7c59c251db",
   "metadata": {},
   "outputs": [],
   "source": []
  },
  {
   "cell_type": "code",
   "execution_count": null,
   "id": "9867dd2f-6869-4d71-adf1-95ab7061a476",
   "metadata": {},
   "outputs": [],
   "source": []
  }
 ],
 "metadata": {
  "kernelspec": {
   "display_name": "Python 3 (ipykernel)",
   "language": "python",
   "name": "python3"
  },
  "language_info": {
   "codemirror_mode": {
    "name": "ipython",
    "version": 3
   },
   "file_extension": ".py",
   "mimetype": "text/x-python",
   "name": "python",
   "nbconvert_exporter": "python",
   "pygments_lexer": "ipython3",
   "version": "3.10.6"
  }
 },
 "nbformat": 4,
 "nbformat_minor": 5
}
